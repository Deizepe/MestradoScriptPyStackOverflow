{
 "cells": [
  {
   "cell_type": "markdown",
   "metadata": {},
   "source": [
    "# Busca Google\n",
    "#### Por Anderson Deizepe e André Endo"
   ]
  },
  {
   "cell_type": "markdown",
   "metadata": {},
   "source": [
    "API = API Google\n",
    "secret"
   ]
  },
  {
   "cell_type": "code",
   "execution_count": null,
   "metadata": {},
   "outputs": [],
   "source": [
    "from googleapiclient.discovery import build\n",
    "import pprint\n",
    "import urllib.request\n",
    "import numpy"
   ]
  },
  {
   "cell_type": "markdown",
   "metadata": {},
   "source": [
    "### Informar site onde a busca será realizada"
   ]
  },
  {
   "cell_type": "code",
   "execution_count": null,
   "metadata": {},
   "outputs": [],
   "source": [
    "site = ' site:stackoverflow.com'"
   ]
  },
  {
   "cell_type": "markdown",
   "metadata": {},
   "source": [
    "### Informar Strings a buscar no google"
   ]
  },
  {
   "cell_type": "code",
   "execution_count": null,
   "metadata": {},
   "outputs": [],
   "source": [
    "s3 = numpy.array([\n",
    "    'aws s3 error upload file laravel',\n",
    "    'aws s3 AccessDenied',\n",
    "    'aws s3 bucket permissions',\n",
    "    'aws iam s3',\n",
    "    'putObject s3',\n",
    "    'error send file aws s3',\n",
    "    's3 Policy has invalid action - s3:ListAllMyBuckets',\n",
    "    'this request does not support credentials s3',\n",
    "    'aws s3 iam credentials',\n",
    "    's3 CredentialsNotSupported',\n",
    "])\n",
    "\n",
    "ses = numpy.array([\n",
    "    'aws ses error sending email',\n",
    "    'aws ses AccessDenied',\n",
    "    'aws ses domain',\n",
    "    'aws ses permissions',\n",
    "    'list email ses',\n",
    "    'list domain ses',\n",
    "    'ses policy has invalid action',\n",
    "    'aws ses iam credentials',\n",
    "    'ses CredentialsNotSupported',\n",
    "    'MailFromDomainNotVerified ses',\n",
    "])\n",
    "\n",
    "sqs = numpy.array([\n",
    "    'sqs NotAuthorized',\n",
    "    'aws sqs error',\n",
    "    'aws sqs AccessDenied',\n",
    "    'aws sqs permissions',\n",
    "    'aws sqs iam',\n",
    "    'sqs error queue',\n",
    "    'aws sqs InvalidAction',\n",
    "    'aws sqs NotAuthorized',\n",
    "    'sqs MissingParameter',\n",
    "    'sqs InvalidClientTokenId',\n",
    "])\n",
    "\n",
    "sns = numpy.array([\n",
    "    'aws sns AccessDeniedException',\n",
    "    'aws sns error',\n",
    "    'aws sns AccessDenied',\n",
    "    'aws sns permissions',\n",
    "    'aws sns iam',\n",
    "    'aws sns error notification',\n",
    "    'aws sns message delivery error',\n",
    "    'sns Publish error',\n",
    "    'sns topic error',\n",
    "    'sns InvalidAction',\n",
    "])\n",
    "\n",
    "##String da execução atual\n",
    "stringsbusca = s3"
   ]
  },
  {
   "cell_type": "markdown",
   "metadata": {},
   "source": [
    "### Informar Strings a buscar dentro dos resultados do google"
   ]
  },
  {
   "cell_type": "code",
   "execution_count": null,
   "metadata": {},
   "outputs": [],
   "source": [
    "stringsresultados = numpy.array([\n",
    "    's3:*',\n",
    "    'ses:*',\n",
    "    'sqs:*',\n",
    "    'sns:*',\n",
    "    'fullaccess'\n",
    "    \n",
    "])"
   ]
  },
  {
   "cell_type": "markdown",
   "metadata": {},
   "source": [
    "### Processando a busca"
   ]
  },
  {
   "cell_type": "code",
   "execution_count": null,
   "metadata": {
    "scrolled": false
   },
   "outputs": [],
   "source": [
    "##Vetor para armazenar strings encontradas automaticamente\n",
    "count_result= numpy.zeros((stringsbusca.size,stringsresultados.size))\n",
    "##vetor para armazenar validação após análise manual\n",
    "count_result_check= numpy.zeros((stringsbusca.size,stringsresultados.size))\n",
    "\n",
    "\n",
    "##api Google\n",
    "my_api_key = \"API KEY Obtida no Google\"\n",
    "my_cse_id = \"SECRET\"\n",
    "\n",
    "def google_search(search_term, api_key, cse_id, **kwargs):\n",
    "    service = build(\"customsearch\", \"v1\", developerKey=api_key)\n",
    "    res = service.cse().list(q=search_term, cx=cse_id, **kwargs).execute()\n",
    "    return res['items']\n",
    "\n",
    "## BUSCA\n",
    "i=0\n",
    "j=0\n",
    "for stringbusca in stringsbusca:\n",
    "    results = google_search(\n",
    "        stringbusca + site, my_api_key, my_cse_id, num=10)\n",
    "    for result in results:\n",
    "        ##pprint.pprint(result)\n",
    "        print(result['link'])\n",
    "        try:\n",
    "            fp = urllib.request.urlopen(result['link'])\n",
    "            mybytes = fp.read()\n",
    "\n",
    "            mystr = mybytes.decode(\"utf8\")\n",
    "            fp.close()\n",
    "\n",
    "            htmlsite = mystr.upper()\n",
    "            for stringresultados in stringsresultados:\n",
    "                stringresultados = stringresultados.upper()\n",
    "\n",
    "                # print(mystr)\n",
    "                if stringresultados in htmlsite:\n",
    "                    print(stringresultados + \" encontrada!\")\n",
    "                    count_result[i,j]=count_result[i,j]+1\n",
    "                    v=int(input(\"Valido? [1/0]: \"))\n",
    "                    count_result_check[i,j] = count_result_check[i,j]+ v\n",
    "                j = j+1\n",
    "            j=0\n",
    "        except:\n",
    "            print(\"An exception occurred, 404\")\n",
    "    i = i+1\n",
    "print('Resultado automatico')\n",
    "print(count_result),\n",
    "print('Resultado validado')\n",
    "print(count_result_check)"
   ]
  },
  {
   "cell_type": "markdown",
   "metadata": {},
   "source": [
    "### Mapa de calor dos resultados"
   ]
  },
  {
   "cell_type": "code",
   "execution_count": null,
   "metadata": {},
   "outputs": [],
   "source": [
    "import seaborn as sns\n",
    "import matplotlib.pylab as plt\n",
    "print(\"Strings encontradas automaticamente\")\n",
    "ax = sns.heatmap(count_result, xticklabels=stringsresultados , yticklabels=stringsbusca, linewidth=1)\n",
    "plt.show()\n",
    "print(\"Strings validadas manualmente\")\n",
    "ax = sns.heatmap(count_result_check, xticklabels=stringsresultados , yticklabels=stringsbusca, linewidth=1)\n",
    "plt.show()"
   ]
  }
 ],
 "metadata": {
  "kernelspec": {
   "display_name": "Python 3",
   "language": "python",
   "name": "python3"
  },
  "language_info": {
   "codemirror_mode": {
    "name": "ipython",
    "version": 3
   },
   "file_extension": ".py",
   "mimetype": "text/x-python",
   "name": "python",
   "nbconvert_exporter": "python",
   "pygments_lexer": "ipython3",
   "version": "3.8.5"
  }
 },
 "nbformat": 4,
 "nbformat_minor": 4
}
